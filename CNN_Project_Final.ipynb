{
  "nbformat": 4,
  "nbformat_minor": 0,
  "metadata": {
    "kernelspec": {
      "display_name": "Python 3",
      "language": "python",
      "name": "python3"
    },
    "language_info": {
      "codemirror_mode": {
        "name": "ipython",
        "version": 3
      },
      "file_extension": ".py",
      "mimetype": "text/x-python",
      "name": "python",
      "nbconvert_exporter": "python",
      "pygments_lexer": "ipython3",
      "version": "3.6.8"
    },
    "colab": {
      "name": "CNN Project Final.ipynb",
      "provenance": [],
      "collapsed_sections": [],
      "include_colab_link": true
    }
  },
  "cells": [
    {
      "cell_type": "markdown",
      "metadata": {
        "id": "view-in-github",
        "colab_type": "text"
      },
      "source": [
        "<a href=\"https://colab.research.google.com/github/calebcaptain1/CNN-Doom-Crossing-Dataset/blob/main/CNN_Project_Final.ipynb\" target=\"_parent\"><img src=\"https://colab.research.google.com/assets/colab-badge.svg\" alt=\"Open In Colab\"/></a>"
      ]
    },
    {
      "cell_type": "code",
      "metadata": {
        "id": "SUPjqmOhC2RD"
      },
      "source": [
        "import tensorflow.compat.v2 as tf\n",
        "import tensorflow_datasets as tfds\n",
        "##import tldextract\n",
        "from tensorflow.keras import datasets, layers, models\n",
        "from tensorflow.keras.utils import plot_model, to_categorical\n",
        "from tensorflow.keras.preprocessing.image import load_img, img_to_array\n",
        "from tensorflow.keras import callbacks\n",
        "from tensorflow.keras.callbacks import TensorBoard, ModelCheckpoint\n",
        "import matplotlib.pyplot as plt\n",
        "from sklearn.model_selection import train_test_split\n",
        "import keras\n",
        "keras.__version__\n",
        "import pandas as pd\n",
        "from keras.datasets import mnist\n",
        "import numpy as np\n",
        "import random\n",
        "import matplotlib.pyplot as plt\n",
        "import glob\n",
        "import os\n",
        "import gc\n",
        "import cv2\n",
        "import PIL\n",
        "import seaborn as sns\n",
        "from keras import models\n",
        "from keras import layers"
      ],
      "execution_count": 2,
      "outputs": []
    },
    {
      "cell_type": "code",
      "metadata": {
        "id": "RWN2HdtTC2RM"
      },
      "source": [
        "doomdata = pd.read_html('https://github.com/calebcaptain1/CNN-Doom-Crossing-Dataset/blob/main/doom_crossing_dataset.csv')[0]"
      ],
      "execution_count": null,
      "outputs": []
    },
    {
      "cell_type": "code",
      "metadata": {
        "id": "LVrdnQMKC2RQ"
      },
      "source": [
        "animaldata = pd.read_html('https://github.com/calebcaptain1/CNN-Doom-Crossing-Dataset/blob/main/animal_crossing_dataset.csv')[0]"
      ],
      "execution_count": null,
      "outputs": []
    },
    {
      "cell_type": "code",
      "metadata": {
        "id": "BhnbUIJcC2RT"
      },
      "source": [
        "animaldata = animaldata.drop(['Unnamed: 0'], axis=1)"
      ],
      "execution_count": null,
      "outputs": []
    },
    {
      "cell_type": "code",
      "metadata": {
        "id": "LRbwqSegC2RW",
        "outputId": "fbdc4ead-5446-4995-9577-9b18bc30cc57",
        "colab": {
          "base_uri": "https://localhost:8080/",
          "height": 618
        }
      },
      "source": [
        "animaldata.head()"
      ],
      "execution_count": null,
      "outputs": [
        {
          "output_type": "execute_result",
          "data": {
            "text/html": [
              "<div>\n",
              "<style scoped>\n",
              "    .dataframe tbody tr th:only-of-type {\n",
              "        vertical-align: middle;\n",
              "    }\n",
              "\n",
              "    .dataframe tbody tr th {\n",
              "        vertical-align: top;\n",
              "    }\n",
              "\n",
              "    .dataframe thead th {\n",
              "        text-align: right;\n",
              "    }\n",
              "</style>\n",
              "<table border=\"1\" class=\"dataframe\">\n",
              "  <thead>\n",
              "    <tr style=\"text-align: right;\">\n",
              "      <th></th>\n",
              "      <th>subreddit</th>\n",
              "      <th>id</th>\n",
              "      <th>title</th>\n",
              "      <th>ups</th>\n",
              "      <th>downs</th>\n",
              "      <th>upvote_ratio</th>\n",
              "      <th>total_awards_received</th>\n",
              "      <th>num_comments</th>\n",
              "      <th>created_utc</th>\n",
              "      <th>url</th>\n",
              "      <th>filename</th>\n",
              "    </tr>\n",
              "  </thead>\n",
              "  <tbody>\n",
              "    <tr>\n",
              "      <th>0</th>\n",
              "      <td>AnimalCrossing</td>\n",
              "      <td>g6ra3l</td>\n",
              "      <td>Elijah Wood visits a fan's island after seeing...</td>\n",
              "      <td>103447</td>\n",
              "      <td>0</td>\n",
              "      <td>0.96</td>\n",
              "      <td>7</td>\n",
              "      <td>1527</td>\n",
              "      <td>1.587664e+09</td>\n",
              "      <td>https://i.redd.it/yjrafuspulu41.png</td>\n",
              "      <td>yjrafuspulu41.png</td>\n",
              "    </tr>\n",
              "    <tr>\n",
              "      <th>1</th>\n",
              "      <td>AnimalCrossing</td>\n",
              "      <td>gp8bts</td>\n",
              "      <td>Amazing idea my girlfriend came up with</td>\n",
              "      <td>85186</td>\n",
              "      <td>0</td>\n",
              "      <td>0.93</td>\n",
              "      <td>16</td>\n",
              "      <td>1175</td>\n",
              "      <td>1.590253e+09</td>\n",
              "      <td>https://i.redd.it/2ehmq0fjpj051.jpg</td>\n",
              "      <td>2ehmq0fjpj051.jpg</td>\n",
              "    </tr>\n",
              "    <tr>\n",
              "      <th>2</th>\n",
              "      <td>AnimalCrossing</td>\n",
              "      <td>g8jju6</td>\n",
              "      <td>I just... really like Blathers</td>\n",
              "      <td>81436</td>\n",
              "      <td>0</td>\n",
              "      <td>0.95</td>\n",
              "      <td>28</td>\n",
              "      <td>903</td>\n",
              "      <td>1.587926e+09</td>\n",
              "      <td>https://i.redd.it/a2vvzng7g7v41.jpg</td>\n",
              "      <td>a2vvzng7g7v41.jpg</td>\n",
              "    </tr>\n",
              "    <tr>\n",
              "      <th>3</th>\n",
              "      <td>AnimalCrossing</td>\n",
              "      <td>gempba</td>\n",
              "      <td>I couldn't let my boy down. [OC]</td>\n",
              "      <td>72708</td>\n",
              "      <td>0</td>\n",
              "      <td>0.96</td>\n",
              "      <td>24</td>\n",
              "      <td>522</td>\n",
              "      <td>1.588781e+09</td>\n",
              "      <td>https://i.redd.it/t88z1sn736x41.jpg</td>\n",
              "      <td>t88z1sn736x41.jpg</td>\n",
              "    </tr>\n",
              "    <tr>\n",
              "      <th>4</th>\n",
              "      <td>AnimalCrossing</td>\n",
              "      <td>fuv26r</td>\n",
              "      <td>My island is called Ravioli and I just finishe...</td>\n",
              "      <td>70357</td>\n",
              "      <td>0</td>\n",
              "      <td>0.96</td>\n",
              "      <td>9</td>\n",
              "      <td>563</td>\n",
              "      <td>1.586012e+09</td>\n",
              "      <td>https://i.redd.it/176wf6duetq41.jpg</td>\n",
              "      <td>176wf6duetq41.jpg</td>\n",
              "    </tr>\n",
              "  </tbody>\n",
              "</table>\n",
              "</div>"
            ],
            "text/plain": [
              "        subreddit  ...           filename\n",
              "0  AnimalCrossing  ...  yjrafuspulu41.png\n",
              "1  AnimalCrossing  ...  2ehmq0fjpj051.jpg\n",
              "2  AnimalCrossing  ...  a2vvzng7g7v41.jpg\n",
              "3  AnimalCrossing  ...  t88z1sn736x41.jpg\n",
              "4  AnimalCrossing  ...  176wf6duetq41.jpg\n",
              "\n",
              "[5 rows x 11 columns]"
            ]
          },
          "metadata": {
            "tags": []
          },
          "execution_count": 26
        }
      ]
    },
    {
      "cell_type": "code",
      "metadata": {
        "id": "qH7aPnruC2Ra"
      },
      "source": [
        ""
      ],
      "execution_count": null,
      "outputs": []
    },
    {
      "cell_type": "code",
      "metadata": {
        "id": "ao0-9CdnC2Rd"
      },
      "source": [
        "doomdata = doomdata.drop(['Unnamed: 0'], axis=1)"
      ],
      "execution_count": null,
      "outputs": []
    },
    {
      "cell_type": "code",
      "metadata": {
        "id": "j2gG7UYaC2Rg",
        "outputId": "06238ef7-2f1b-497f-cba5-82a4bd44c36e",
        "colab": {
          "base_uri": "https://localhost:8080/",
          "height": 434
        }
      },
      "source": [
        "doomdata.head()"
      ],
      "execution_count": null,
      "outputs": [
        {
          "output_type": "execute_result",
          "data": {
            "text/html": [
              "<div>\n",
              "<style scoped>\n",
              "    .dataframe tbody tr th:only-of-type {\n",
              "        vertical-align: middle;\n",
              "    }\n",
              "\n",
              "    .dataframe tbody tr th {\n",
              "        vertical-align: top;\n",
              "    }\n",
              "\n",
              "    .dataframe thead th {\n",
              "        text-align: right;\n",
              "    }\n",
              "</style>\n",
              "<table border=\"1\" class=\"dataframe\">\n",
              "  <thead>\n",
              "    <tr style=\"text-align: right;\">\n",
              "      <th></th>\n",
              "      <th>subreddit</th>\n",
              "      <th>id</th>\n",
              "      <th>title</th>\n",
              "      <th>ups</th>\n",
              "      <th>downs</th>\n",
              "      <th>upvote_ratio</th>\n",
              "      <th>total_awards_received</th>\n",
              "      <th>num_comments</th>\n",
              "      <th>created_utc</th>\n",
              "      <th>url</th>\n",
              "      <th>filename</th>\n",
              "    </tr>\n",
              "  </thead>\n",
              "  <tbody>\n",
              "    <tr>\n",
              "      <th>0</th>\n",
              "      <td>Doom</td>\n",
              "      <td>gtli3b</td>\n",
              "      <td>And always remember</td>\n",
              "      <td>39007</td>\n",
              "      <td>0</td>\n",
              "      <td>0.94</td>\n",
              "      <td>1</td>\n",
              "      <td>531</td>\n",
              "      <td>1.590872e+09</td>\n",
              "      <td>https://i.redd.it/ksn72cinsy151.jpg</td>\n",
              "      <td>ksn72cinsy151.jpg</td>\n",
              "    </tr>\n",
              "    <tr>\n",
              "      <th>1</th>\n",
              "      <td>Doom</td>\n",
              "      <td>fnj4e5</td>\n",
              "      <td>Remember to have fun</td>\n",
              "      <td>30071</td>\n",
              "      <td>0</td>\n",
              "      <td>0.96</td>\n",
              "      <td>10</td>\n",
              "      <td>1158</td>\n",
              "      <td>1.584966e+09</td>\n",
              "      <td>https://i.redd.it/ik4d2mpi1fo41.jpg</td>\n",
              "      <td>ik4d2mpi1fo41.jpg</td>\n",
              "    </tr>\n",
              "    <tr>\n",
              "      <th>2</th>\n",
              "      <td>Doom</td>\n",
              "      <td>gemj1h</td>\n",
              "      <td>Can we please send our appreciacion to the lea...</td>\n",
              "      <td>27189</td>\n",
              "      <td>0</td>\n",
              "      <td>0.92</td>\n",
              "      <td>5</td>\n",
              "      <td>965</td>\n",
              "      <td>1.588780e+09</td>\n",
              "      <td>https://i.redd.it/y5pddy7h16x41.jpg</td>\n",
              "      <td>y5pddy7h16x41.jpg</td>\n",
              "    </tr>\n",
              "    <tr>\n",
              "      <th>3</th>\n",
              "      <td>Doom</td>\n",
              "      <td>fzhpqt</td>\n",
              "      <td>This painting from this subreddit a year ago, ...</td>\n",
              "      <td>22948</td>\n",
              "      <td>0</td>\n",
              "      <td>0.97</td>\n",
              "      <td>1</td>\n",
              "      <td>296</td>\n",
              "      <td>1.586636e+09</td>\n",
              "      <td>https://i.redd.it/jrk0eogay8s41.jpg</td>\n",
              "      <td>jrk0eogay8s41.jpg</td>\n",
              "    </tr>\n",
              "    <tr>\n",
              "      <th>4</th>\n",
              "      <td>Doom</td>\n",
              "      <td>g4v23f</td>\n",
              "      <td>Bethesda, you can still do the right thing her...</td>\n",
              "      <td>19896</td>\n",
              "      <td>0</td>\n",
              "      <td>0.96</td>\n",
              "      <td>34</td>\n",
              "      <td>956</td>\n",
              "      <td>1.587397e+09</td>\n",
              "      <td>https://i.redd.it/7c3lyx28tzt41.jpg</td>\n",
              "      <td>7c3lyx28tzt41.jpg</td>\n",
              "    </tr>\n",
              "  </tbody>\n",
              "</table>\n",
              "</div>"
            ],
            "text/plain": [
              "  subreddit      id  ...                                  url           filename\n",
              "0      Doom  gtli3b  ...  https://i.redd.it/ksn72cinsy151.jpg  ksn72cinsy151.jpg\n",
              "1      Doom  fnj4e5  ...  https://i.redd.it/ik4d2mpi1fo41.jpg  ik4d2mpi1fo41.jpg\n",
              "2      Doom  gemj1h  ...  https://i.redd.it/y5pddy7h16x41.jpg  y5pddy7h16x41.jpg\n",
              "3      Doom  fzhpqt  ...  https://i.redd.it/jrk0eogay8s41.jpg  jrk0eogay8s41.jpg\n",
              "4      Doom  g4v23f  ...  https://i.redd.it/7c3lyx28tzt41.jpg  7c3lyx28tzt41.jpg\n",
              "\n",
              "[5 rows x 11 columns]"
            ]
          },
          "metadata": {
            "tags": []
          },
          "execution_count": 28
        }
      ]
    },
    {
      "cell_type": "code",
      "metadata": {
        "id": "b6DG2gNGC2Rk",
        "outputId": "1b1e91b5-1b9c-45ba-9b92-f2ed45fd37c4",
        "colab": {
          "base_uri": "https://localhost:8080/",
          "height": 52
        }
      },
      "source": [
        "import pathlib\n",
        "\n",
        "ac_image_folder = '/CNN-Doom-Crossing-Dataset-master/animal_crossing'\n",
        "dm_image_folder = '/CNN-Doom-Crossing-Dataset-master/doom'\n",
        "dataset_url = \"https://github.com/calebcaptain1/CNN-Doom-Crossing-Dataset/archive/master.zip\"\n",
        "\n",
        "if not os.path.exists(os.path.abspath('.') + ac_image_folder):\n",
        "  image_zip = tf.keras.utils.get_file('CNN-Doom-Crossing-Dataset-master.zip',\n",
        "                                      cache_subdir=os.path.abspath('.'),\n",
        "                                      origin = dataset_url,\n",
        "                                      extract = True)\n",
        "\n",
        "  image_zip = os.path.abspath('CNN-Doom-Crossing-Dataset-master')\n",
        "\n",
        "else:\n",
        "  image_zip = os.path.abspath('CNN-Doom-Crossing-Dataset-master')\n"
      ],
      "execution_count": 4,
      "outputs": [
        {
          "output_type": "stream",
          "text": [
            "Downloading data from https://github.com/calebcaptain1/CNN-Doom-Crossing-Dataset/archive/master.zip\n",
            "1044815872/Unknown - 41s 0us/step"
          ],
          "name": "stdout"
        }
      ]
    },
    {
      "cell_type": "code",
      "metadata": {
        "id": "u1zR8-7QJChh",
        "outputId": "5d89f7cd-c736-4ba6-df5c-b7671559176a",
        "colab": {
          "base_uri": "https://localhost:8080/",
          "height": 52
        }
      },
      "source": [
        "print(image_zip)\n",
        "sub_dir = os.listdir(image_zip)\n",
        "sub_dir"
      ],
      "execution_count": 5,
      "outputs": [
        {
          "output_type": "stream",
          "text": [
            "/content/CNN-Doom-Crossing-Dataset-master\n"
          ],
          "name": "stdout"
        },
        {
          "output_type": "execute_result",
          "data": {
            "text/plain": [
              "['animal_crossing', 'doom']"
            ]
          },
          "metadata": {
            "tags": []
          },
          "execution_count": 5
        }
      ]
    },
    {
      "cell_type": "code",
      "metadata": {
        "id": "2wrt0Mh6C2Rm",
        "outputId": "0b8d1833-c9be-4b8b-8823-e3fef021c1fc",
        "colab": {
          "base_uri": "https://localhost:8080/",
          "height": 52
        }
      },
      "source": [
        "#print(os.path.dirname(dm_PATH))\n",
        "del(image_zip)\n",
        "del(dm_image_folder)\n",
        "del(ac_image_folder)\n",
        "\n",
        "#ac_PATH = \n",
        "print(ac_PATH)\n",
        "#/content/CNN-Doom-Crossing-Dataset-master/animal_crossing\n",
        "print(dm_PATH)"
      ],
      "execution_count": null,
      "outputs": [
        {
          "output_type": "stream",
          "text": [
            "/content/CNN-Doom-Crossing-Dataset-master/animal_crossing/*.jpg\n",
            "/content/CNN-Doom-Crossing-Dataset-master/doom/*.jpg\n"
          ],
          "name": "stdout"
        }
      ]
    },
    {
      "cell_type": "code",
      "metadata": {
        "id": "XppgNKU0C2Rq",
        "outputId": "bdc4fbc0-17fd-427e-fc21-638e534a3952",
        "colab": {
          "base_uri": "https://localhost:8080/",
          "height": 34
        }
      },
      "source": [
        "import gc\n",
        "gc.collect()"
      ],
      "execution_count": null,
      "outputs": [
        {
          "output_type": "execute_result",
          "data": {
            "text/plain": [
              "98"
            ]
          },
          "metadata": {
            "tags": []
          },
          "execution_count": 29
        }
      ]
    },
    {
      "cell_type": "code",
      "metadata": {
        "id": "z0nbP0m1MH2p"
      },
      "source": [
        "categories = ['animal_crossing', 'doom']"
      ],
      "execution_count": 6,
      "outputs": []
    },
    {
      "cell_type": "code",
      "metadata": {
        "id": "nHac5_pq7pFr"
      },
      "source": [
        "from PIL import Image"
      ],
      "execution_count": 7,
      "outputs": []
    },
    {
      "cell_type": "code",
      "metadata": {
        "id": "51c5-3ICiSbx"
      },
      "source": [
        "IMG_SIZE = 80\n",
        "#new_array = cv2.resize(ac_images, (IMG_SIZE, IMG_SIZE))"
      ],
      "execution_count": 8,
      "outputs": []
    },
    {
      "cell_type": "code",
      "metadata": {
        "id": "SLSe7mbjCBpO"
      },
      "source": [
        "training_data = []\n",
        "\n",
        "def create_training_data():\n",
        "    for category in categories:\n",
        "        path = os.path.join(image_zip, category)\n",
        "        category_count = categories.index(category)\n",
        "        for img in os.listdir(path):\n",
        "            try:\n",
        "                img_array = cv2.imread(os.path.join(path, img), cv2.IMREAD_GRAYSCALE)\n",
        "                new_array = cv2.resize(img_array, (IMG_SIZE, IMG_SIZE))\n",
        "                training_data.append([new_array, category_count])\n",
        "            except Exception as e:\n",
        "                pass\n",
        "\n",
        "create_training_data()"
      ],
      "execution_count": 9,
      "outputs": []
    },
    {
      "cell_type": "code",
      "metadata": {
        "id": "dlaCPRvGh-PM",
        "outputId": "999cb219-87fe-474a-8c97-d0b8774ccb08",
        "colab": {
          "base_uri": "https://localhost:8080/",
          "height": 34
        }
      },
      "source": [
        "print(len(training_data))"
      ],
      "execution_count": null,
      "outputs": [
        {
          "output_type": "stream",
          "text": [
            "1597\n"
          ],
          "name": "stdout"
        }
      ]
    },
    {
      "cell_type": "code",
      "metadata": {
        "id": "qaw_N6jPkRZe"
      },
      "source": [
        "random.shuffle(training_data)"
      ],
      "execution_count": 10,
      "outputs": []
    },
    {
      "cell_type": "code",
      "metadata": {
        "id": "HhLHnoGZjcwj"
      },
      "source": [
        "x = []\n",
        "y = []\n",
        "\n",
        "for features, label in training_data:\n",
        "    x.append(features)\n",
        "    y.append(label)\n"
      ],
      "execution_count": 11,
      "outputs": []
    },
    {
      "cell_type": "code",
      "metadata": {
        "id": "3ThKv6q1jtBg"
      },
      "source": [
        "x = np.array(x).reshape(-1, IMG_SIZE, IMG_SIZE, 1)\n",
        "y = to_categorical(y)\n",
        "#X_train, Y_train, X_test, Y_test = train_test_split(x, y, test_size=.3, random_state=42)\n",
        "#print(Y_train.shape, X_train.shape)\n",
        "#print(x.shape, y.shape)"
      ],
      "execution_count": 12,
      "outputs": []
    },
    {
      "cell_type": "code",
      "metadata": {
        "id": "BjRzZR8lkVPJ"
      },
      "source": [
        "model = models.Sequential()\n",
        "model.add(layers.Flatten(input_shape=(80,80,1)))\n",
        "model.add(layers.Dense(3200, activation='relu'))\n",
        "model.add(layers.Dense(1600, activation='relu'))\n",
        "model.add(layers.Dense(800, activation='relu'))\n",
        "model.add(layers.Dense(400, activation='relu'))\n",
        "model.add(layers.Dense(200, activation='relu'))\n",
        "model.add(layers.Dense(100, activation='relu'))\n",
        "model.add(layers.Dense(50, activation='relu'))\n",
        "model.add(layers.Dense(2,activation='sigmoid'))\n",
        "model.compile(loss='binary_crossentropy', optimizer='adam', metrics=['accuracy'])"
      ],
      "execution_count": 13,
      "outputs": []
    },
    {
      "cell_type": "code",
      "metadata": {
        "id": "LlMKIdrOkXZN",
        "outputId": "20c99973-6678-4618-89f8-81f741929ed4",
        "colab": {
          "base_uri": "https://localhost:8080/",
          "height": 1000
        }
      },
      "source": [
        "NAME = \"Animal-vs-Doom-Crossing\"\n",
        "checkpoint_path = \"train_ckpt/cp.ckpt\"\n",
        "checkpoint = ModelCheckpoint(filepath=checkpoint_path, monitor='val_accuracy', verbose=1, save_best_only=True, mode='max')\n",
        "tensorboard = TensorBoard(log_dir=\"logs/{}\".format(NAME))\n",
        "callbacks_list = ([checkpoint], [tensorboard])\n",
        "model.fit(x, y, epochs=50, batch_size=110, shuffle=True, validation_split=0.20, callbacks=callbacks_list, verbose=1)"
      ],
      "execution_count": 14,
      "outputs": [
        {
          "output_type": "stream",
          "text": [
            "Epoch 1/50\n",
            " 1/12 [=>............................] - ETA: 0s - loss: 39.2354 - accuracy: 0.4545WARNING:tensorflow:From /usr/local/lib/python3.6/dist-packages/tensorflow/python/ops/summary_ops_v2.py:1277: stop (from tensorflow.python.eager.profiler) is deprecated and will be removed after 2020-07-01.\n",
            "Instructions for updating:\n",
            "use `tf.profiler.experimental.stop` instead.\n",
            "12/12 [==============================] - ETA: 0s - loss: 526.5773 - accuracy: 0.4941\n",
            "Epoch 00001: val_accuracy improved from -inf to 0.51875, saving model to train_ckpt/cp.ckpt\n",
            "WARNING:tensorflow:From /usr/local/lib/python3.6/dist-packages/tensorflow/python/training/tracking/tracking.py:111: Model.state_updates (from tensorflow.python.keras.engine.training) is deprecated and will be removed in a future version.\n",
            "Instructions for updating:\n",
            "This property should not be used in TensorFlow 2.0, as updates are applied automatically.\n",
            "WARNING:tensorflow:From /usr/local/lib/python3.6/dist-packages/tensorflow/python/training/tracking/tracking.py:111: Layer.updates (from tensorflow.python.keras.engine.base_layer) is deprecated and will be removed in a future version.\n",
            "Instructions for updating:\n",
            "This property should not be used in TensorFlow 2.0, as updates are applied automatically.\n",
            "INFO:tensorflow:Assets written to: train_ckpt/cp.ckpt/assets\n",
            "12/12 [==============================] - 6s 485ms/step - loss: 526.5773 - accuracy: 0.4941 - val_loss: 97.7207 - val_accuracy: 0.5188\n",
            "Epoch 2/50\n",
            "12/12 [==============================] - ETA: 0s - loss: 77.8461 - accuracy: 0.4980\n",
            "Epoch 00002: val_accuracy did not improve from 0.51875\n",
            "12/12 [==============================] - 4s 334ms/step - loss: 77.8461 - accuracy: 0.4980 - val_loss: 24.4105 - val_accuracy: 0.5188\n",
            "Epoch 3/50\n",
            "12/12 [==============================] - ETA: 0s - loss: 9.9685 - accuracy: 0.5364 \n",
            "Epoch 00003: val_accuracy did not improve from 0.51875\n",
            "12/12 [==============================] - 4s 333ms/step - loss: 9.9685 - accuracy: 0.5364 - val_loss: 2.1522 - val_accuracy: 0.4812\n",
            "Epoch 4/50\n",
            "12/12 [==============================] - ETA: 0s - loss: 1.8816 - accuracy: 0.5333\n",
            "Epoch 00004: val_accuracy improved from 0.51875 to 0.63437, saving model to train_ckpt/cp.ckpt\n",
            "INFO:tensorflow:Assets written to: train_ckpt/cp.ckpt/assets\n",
            "12/12 [==============================] - 5s 450ms/step - loss: 1.8816 - accuracy: 0.5333 - val_loss: 0.8045 - val_accuracy: 0.6344\n",
            "Epoch 5/50\n",
            "12/12 [==============================] - ETA: 0s - loss: 0.9722 - accuracy: 0.5489\n",
            "Epoch 00005: val_accuracy did not improve from 0.63437\n",
            "12/12 [==============================] - 4s 335ms/step - loss: 0.9722 - accuracy: 0.5489 - val_loss: 0.7357 - val_accuracy: 0.6156\n",
            "Epoch 6/50\n",
            "12/12 [==============================] - ETA: 0s - loss: 0.6883 - accuracy: 0.6273\n",
            "Epoch 00006: val_accuracy did not improve from 0.63437\n",
            "12/12 [==============================] - 4s 332ms/step - loss: 0.6883 - accuracy: 0.6273 - val_loss: 0.6796 - val_accuracy: 0.6125\n",
            "Epoch 7/50\n",
            "12/12 [==============================] - ETA: 0s - loss: 0.6385 - accuracy: 0.6304\n",
            "Epoch 00007: val_accuracy did not improve from 0.63437\n",
            "12/12 [==============================] - 4s 332ms/step - loss: 0.6385 - accuracy: 0.6304 - val_loss: 0.6718 - val_accuracy: 0.6313\n",
            "Epoch 8/50\n",
            "12/12 [==============================] - ETA: 0s - loss: 0.6257 - accuracy: 0.6413\n",
            "Epoch 00008: val_accuracy did not improve from 0.63437\n",
            "12/12 [==============================] - 4s 333ms/step - loss: 0.6257 - accuracy: 0.6413 - val_loss: 0.6700 - val_accuracy: 0.6344\n",
            "Epoch 9/50\n",
            "12/12 [==============================] - ETA: 0s - loss: 0.6385 - accuracy: 0.6453\n",
            "Epoch 00009: val_accuracy did not improve from 0.63437\n",
            "12/12 [==============================] - 4s 331ms/step - loss: 0.6385 - accuracy: 0.6453 - val_loss: 0.7578 - val_accuracy: 0.5219\n",
            "Epoch 10/50\n",
            "12/12 [==============================] - ETA: 0s - loss: 0.6350 - accuracy: 0.6249\n",
            "Epoch 00010: val_accuracy did not improve from 0.63437\n",
            "12/12 [==============================] - 4s 333ms/step - loss: 0.6350 - accuracy: 0.6249 - val_loss: 0.6659 - val_accuracy: 0.6250\n",
            "Epoch 11/50\n",
            "12/12 [==============================] - ETA: 0s - loss: 0.6279 - accuracy: 0.6531\n",
            "Epoch 00011: val_accuracy did not improve from 0.63437\n",
            "12/12 [==============================] - 4s 333ms/step - loss: 0.6279 - accuracy: 0.6531 - val_loss: 0.7408 - val_accuracy: 0.5906\n",
            "Epoch 12/50\n",
            "12/12 [==============================] - ETA: 0s - loss: 0.5966 - accuracy: 0.6625\n",
            "Epoch 00012: val_accuracy improved from 0.63437 to 0.65000, saving model to train_ckpt/cp.ckpt\n",
            "INFO:tensorflow:Assets written to: train_ckpt/cp.ckpt/assets\n",
            "12/12 [==============================] - 5s 449ms/step - loss: 0.5966 - accuracy: 0.6625 - val_loss: 0.6388 - val_accuracy: 0.6500\n",
            "Epoch 13/50\n",
            "12/12 [==============================] - ETA: 0s - loss: 0.5643 - accuracy: 0.7048\n",
            "Epoch 00013: val_accuracy did not improve from 0.65000\n",
            "12/12 [==============================] - 4s 333ms/step - loss: 0.5643 - accuracy: 0.7048 - val_loss: 0.6472 - val_accuracy: 0.6438\n",
            "Epoch 14/50\n",
            "12/12 [==============================] - ETA: 0s - loss: 0.5694 - accuracy: 0.6993\n",
            "Epoch 00014: val_accuracy did not improve from 0.65000\n",
            "12/12 [==============================] - 4s 338ms/step - loss: 0.5694 - accuracy: 0.6993 - val_loss: 0.6940 - val_accuracy: 0.6375\n",
            "Epoch 15/50\n",
            "12/12 [==============================] - ETA: 0s - loss: 0.5300 - accuracy: 0.7314\n",
            "Epoch 00015: val_accuracy did not improve from 0.65000\n",
            "12/12 [==============================] - 4s 331ms/step - loss: 0.5300 - accuracy: 0.7314 - val_loss: 0.6433 - val_accuracy: 0.6406\n",
            "Epoch 16/50\n",
            "12/12 [==============================] - ETA: 0s - loss: 0.5072 - accuracy: 0.7588\n",
            "Epoch 00016: val_accuracy improved from 0.65000 to 0.65312, saving model to train_ckpt/cp.ckpt\n",
            "INFO:tensorflow:Assets written to: train_ckpt/cp.ckpt/assets\n",
            "12/12 [==============================] - 5s 451ms/step - loss: 0.5072 - accuracy: 0.7588 - val_loss: 0.6303 - val_accuracy: 0.6531\n",
            "Epoch 17/50\n",
            "12/12 [==============================] - ETA: 0s - loss: 0.5249 - accuracy: 0.7416\n",
            "Epoch 00017: val_accuracy improved from 0.65312 to 0.65625, saving model to train_ckpt/cp.ckpt\n",
            "INFO:tensorflow:Assets written to: train_ckpt/cp.ckpt/assets\n",
            "12/12 [==============================] - 6s 466ms/step - loss: 0.5249 - accuracy: 0.7416 - val_loss: 0.6609 - val_accuracy: 0.6562\n",
            "Epoch 18/50\n",
            "12/12 [==============================] - ETA: 0s - loss: 0.5158 - accuracy: 0.7408\n",
            "Epoch 00018: val_accuracy improved from 0.65625 to 0.65938, saving model to train_ckpt/cp.ckpt\n",
            "INFO:tensorflow:Assets written to: train_ckpt/cp.ckpt/assets\n",
            "12/12 [==============================] - 5s 451ms/step - loss: 0.5158 - accuracy: 0.7408 - val_loss: 0.6373 - val_accuracy: 0.6594\n",
            "Epoch 19/50\n",
            "12/12 [==============================] - ETA: 0s - loss: 0.5124 - accuracy: 0.7400\n",
            "Epoch 00019: val_accuracy did not improve from 0.65938\n",
            "12/12 [==============================] - 4s 334ms/step - loss: 0.5124 - accuracy: 0.7400 - val_loss: 0.6470 - val_accuracy: 0.6562\n",
            "Epoch 20/50\n",
            "12/12 [==============================] - ETA: 0s - loss: 0.5371 - accuracy: 0.7244\n",
            "Epoch 00020: val_accuracy did not improve from 0.65938\n",
            "12/12 [==============================] - 4s 334ms/step - loss: 0.5371 - accuracy: 0.7244 - val_loss: 0.6274 - val_accuracy: 0.6500\n",
            "Epoch 21/50\n",
            "12/12 [==============================] - ETA: 0s - loss: 0.6259 - accuracy: 0.6539\n",
            "Epoch 00021: val_accuracy did not improve from 0.65938\n",
            "12/12 [==============================] - 4s 333ms/step - loss: 0.6259 - accuracy: 0.6539 - val_loss: 0.7053 - val_accuracy: 0.6156\n",
            "Epoch 22/50\n",
            "12/12 [==============================] - ETA: 0s - loss: 0.5710 - accuracy: 0.6813\n",
            "Epoch 00022: val_accuracy did not improve from 0.65938\n",
            "12/12 [==============================] - 4s 334ms/step - loss: 0.5710 - accuracy: 0.6813 - val_loss: 0.6414 - val_accuracy: 0.6562\n",
            "Epoch 23/50\n",
            "12/12 [==============================] - ETA: 0s - loss: 0.5132 - accuracy: 0.7604\n",
            "Epoch 00023: val_accuracy did not improve from 0.65938\n",
            "12/12 [==============================] - 4s 333ms/step - loss: 0.5132 - accuracy: 0.7604 - val_loss: 0.6601 - val_accuracy: 0.6469\n",
            "Epoch 24/50\n",
            "12/12 [==============================] - ETA: 0s - loss: 0.5403 - accuracy: 0.7572\n",
            "Epoch 00024: val_accuracy did not improve from 0.65938\n",
            "12/12 [==============================] - 4s 333ms/step - loss: 0.5403 - accuracy: 0.7572 - val_loss: 0.7020 - val_accuracy: 0.6375\n",
            "Epoch 25/50\n",
            "12/12 [==============================] - ETA: 0s - loss: 0.5395 - accuracy: 0.7345\n",
            "Epoch 00025: val_accuracy did not improve from 0.65938\n",
            "12/12 [==============================] - 4s 331ms/step - loss: 0.5395 - accuracy: 0.7345 - val_loss: 0.7270 - val_accuracy: 0.6406\n",
            "Epoch 26/50\n",
            "12/12 [==============================] - ETA: 0s - loss: 0.5190 - accuracy: 0.7549\n",
            "Epoch 00026: val_accuracy improved from 0.65938 to 0.68750, saving model to train_ckpt/cp.ckpt\n",
            "INFO:tensorflow:Assets written to: train_ckpt/cp.ckpt/assets\n",
            "12/12 [==============================] - 5s 453ms/step - loss: 0.5190 - accuracy: 0.7549 - val_loss: 0.6938 - val_accuracy: 0.6875\n",
            "Epoch 27/50\n",
            "12/12 [==============================] - ETA: 0s - loss: 0.4333 - accuracy: 0.8215\n",
            "Epoch 00027: val_accuracy did not improve from 0.68750\n",
            "12/12 [==============================] - 4s 332ms/step - loss: 0.4333 - accuracy: 0.8215 - val_loss: 0.7128 - val_accuracy: 0.6531\n",
            "Epoch 28/50\n",
            "12/12 [==============================] - ETA: 0s - loss: 0.4277 - accuracy: 0.8168\n",
            "Epoch 00028: val_accuracy did not improve from 0.68750\n",
            "12/12 [==============================] - 4s 335ms/step - loss: 0.4277 - accuracy: 0.8168 - val_loss: 0.6602 - val_accuracy: 0.6750\n",
            "Epoch 29/50\n",
            "12/12 [==============================] - ETA: 0s - loss: 0.3837 - accuracy: 0.8403\n",
            "Epoch 00029: val_accuracy did not improve from 0.68750\n",
            "12/12 [==============================] - 4s 331ms/step - loss: 0.3837 - accuracy: 0.8403 - val_loss: 0.7424 - val_accuracy: 0.6469\n",
            "Epoch 30/50\n",
            "12/12 [==============================] - ETA: 0s - loss: 0.4798 - accuracy: 0.7768\n",
            "Epoch 00030: val_accuracy did not improve from 0.68750\n",
            "12/12 [==============================] - 4s 333ms/step - loss: 0.4798 - accuracy: 0.7768 - val_loss: 0.6508 - val_accuracy: 0.6781\n",
            "Epoch 31/50\n",
            "12/12 [==============================] - ETA: 0s - loss: 0.4875 - accuracy: 0.8003\n",
            "Epoch 00031: val_accuracy did not improve from 0.68750\n",
            "12/12 [==============================] - 4s 335ms/step - loss: 0.4875 - accuracy: 0.8003 - val_loss: 0.6564 - val_accuracy: 0.6687\n",
            "Epoch 32/50\n",
            "12/12 [==============================] - ETA: 0s - loss: 0.4719 - accuracy: 0.7854\n",
            "Epoch 00032: val_accuracy did not improve from 0.68750\n",
            "12/12 [==============================] - 4s 333ms/step - loss: 0.4719 - accuracy: 0.7854 - val_loss: 0.7482 - val_accuracy: 0.6281\n",
            "Epoch 33/50\n",
            "12/12 [==============================] - ETA: 0s - loss: 0.3954 - accuracy: 0.8403\n",
            "Epoch 00033: val_accuracy did not improve from 0.68750\n",
            "12/12 [==============================] - 4s 333ms/step - loss: 0.3954 - accuracy: 0.8403 - val_loss: 0.8744 - val_accuracy: 0.6156\n",
            "Epoch 34/50\n",
            "12/12 [==============================] - ETA: 0s - loss: 0.3566 - accuracy: 0.8496\n",
            "Epoch 00034: val_accuracy did not improve from 0.68750\n",
            "12/12 [==============================] - 4s 334ms/step - loss: 0.3566 - accuracy: 0.8496 - val_loss: 2.5249 - val_accuracy: 0.5250\n",
            "Epoch 35/50\n",
            "12/12 [==============================] - ETA: 0s - loss: 0.9504 - accuracy: 0.6202\n",
            "Epoch 00035: val_accuracy did not improve from 0.68750\n",
            "12/12 [==============================] - 4s 332ms/step - loss: 0.9504 - accuracy: 0.6202 - val_loss: 1.0660 - val_accuracy: 0.4844\n",
            "Epoch 36/50\n",
            "12/12 [==============================] - ETA: 0s - loss: 0.5451 - accuracy: 0.7518\n",
            "Epoch 00036: val_accuracy did not improve from 0.68750\n",
            "12/12 [==============================] - 4s 333ms/step - loss: 0.5451 - accuracy: 0.7518 - val_loss: 0.7116 - val_accuracy: 0.6594\n",
            "Epoch 37/50\n",
            "12/12 [==============================] - ETA: 0s - loss: 0.5484 - accuracy: 0.7338\n",
            "Epoch 00037: val_accuracy did not improve from 0.68750\n",
            "12/12 [==============================] - 4s 333ms/step - loss: 0.5484 - accuracy: 0.7338 - val_loss: 0.7416 - val_accuracy: 0.6719\n",
            "Epoch 38/50\n",
            "12/12 [==============================] - ETA: 0s - loss: 0.5374 - accuracy: 0.7424\n",
            "Epoch 00038: val_accuracy did not improve from 0.68750\n",
            "12/12 [==============================] - 4s 337ms/step - loss: 0.5374 - accuracy: 0.7424 - val_loss: 0.7690 - val_accuracy: 0.5875\n",
            "Epoch 39/50\n",
            "12/12 [==============================] - ETA: 0s - loss: 0.5274 - accuracy: 0.7314\n",
            "Epoch 00039: val_accuracy did not improve from 0.68750\n",
            "12/12 [==============================] - 4s 333ms/step - loss: 0.5274 - accuracy: 0.7314 - val_loss: 0.8343 - val_accuracy: 0.6562\n",
            "Epoch 40/50\n",
            "12/12 [==============================] - ETA: 0s - loss: 0.4333 - accuracy: 0.8042\n",
            "Epoch 00040: val_accuracy did not improve from 0.68750\n",
            "12/12 [==============================] - 4s 335ms/step - loss: 0.4333 - accuracy: 0.8042 - val_loss: 1.1501 - val_accuracy: 0.5094\n",
            "Epoch 41/50\n",
            "12/12 [==============================] - ETA: 0s - loss: 0.6590 - accuracy: 0.6938\n",
            "Epoch 00041: val_accuracy did not improve from 0.68750\n",
            "12/12 [==============================] - 4s 335ms/step - loss: 0.6590 - accuracy: 0.6938 - val_loss: 0.6957 - val_accuracy: 0.6562\n",
            "Epoch 42/50\n",
            "12/12 [==============================] - ETA: 0s - loss: 0.6881 - accuracy: 0.7181\n",
            "Epoch 00042: val_accuracy did not improve from 0.68750\n",
            "12/12 [==============================] - 4s 335ms/step - loss: 0.6881 - accuracy: 0.7181 - val_loss: 0.6971 - val_accuracy: 0.6031\n",
            "Epoch 43/50\n",
            "12/12 [==============================] - ETA: 0s - loss: 0.6007 - accuracy: 0.6891\n",
            "Epoch 00043: val_accuracy did not improve from 0.68750\n",
            "12/12 [==============================] - 4s 331ms/step - loss: 0.6007 - accuracy: 0.6891 - val_loss: 0.7892 - val_accuracy: 0.6656\n",
            "Epoch 44/50\n",
            "12/12 [==============================] - ETA: 0s - loss: 0.6140 - accuracy: 0.6719\n",
            "Epoch 00044: val_accuracy did not improve from 0.68750\n",
            "12/12 [==============================] - 4s 333ms/step - loss: 0.6140 - accuracy: 0.6719 - val_loss: 0.8454 - val_accuracy: 0.5938\n",
            "Epoch 45/50\n",
            "12/12 [==============================] - ETA: 0s - loss: 0.5094 - accuracy: 0.7690\n",
            "Epoch 00045: val_accuracy did not improve from 0.68750\n",
            "12/12 [==============================] - 4s 333ms/step - loss: 0.5094 - accuracy: 0.7690 - val_loss: 0.8681 - val_accuracy: 0.5781\n",
            "Epoch 46/50\n",
            "12/12 [==============================] - ETA: 0s - loss: 0.4030 - accuracy: 0.8238\n",
            "Epoch 00046: val_accuracy did not improve from 0.68750\n",
            "12/12 [==============================] - 4s 335ms/step - loss: 0.4030 - accuracy: 0.8238 - val_loss: 0.8340 - val_accuracy: 0.5813\n",
            "Epoch 47/50\n",
            "12/12 [==============================] - ETA: 0s - loss: 0.3521 - accuracy: 0.8512\n",
            "Epoch 00047: val_accuracy did not improve from 0.68750\n",
            "12/12 [==============================] - 4s 331ms/step - loss: 0.3521 - accuracy: 0.8512 - val_loss: 0.9254 - val_accuracy: 0.6656\n",
            "Epoch 48/50\n",
            "12/12 [==============================] - ETA: 0s - loss: 0.3956 - accuracy: 0.8128\n",
            "Epoch 00048: val_accuracy did not improve from 0.68750\n",
            "12/12 [==============================] - 4s 333ms/step - loss: 0.3956 - accuracy: 0.8128 - val_loss: 1.4447 - val_accuracy: 0.6719\n",
            "Epoch 49/50\n",
            "12/12 [==============================] - ETA: 0s - loss: 0.4635 - accuracy: 0.7933\n",
            "Epoch 00049: val_accuracy did not improve from 0.68750\n",
            "12/12 [==============================] - 4s 334ms/step - loss: 0.4635 - accuracy: 0.7933 - val_loss: 0.7222 - val_accuracy: 0.6875\n",
            "Epoch 50/50\n",
            "12/12 [==============================] - ETA: 0s - loss: 0.4156 - accuracy: 0.8277\n",
            "Epoch 00050: val_accuracy did not improve from 0.68750\n",
            "12/12 [==============================] - 4s 335ms/step - loss: 0.4156 - accuracy: 0.8277 - val_loss: 0.9249 - val_accuracy: 0.6687\n"
          ],
          "name": "stdout"
        },
        {
          "output_type": "execute_result",
          "data": {
            "text/plain": [
              "<tensorflow.python.keras.callbacks.History at 0x7f5b578dbac8>"
            ]
          },
          "metadata": {
            "tags": []
          },
          "execution_count": 14
        }
      ]
    },
    {
      "cell_type": "code",
      "metadata": {
        "id": "TGIZgS_ykr5w",
        "outputId": "a22b1772-713a-4c87-ca91-7eed47ce3acd",
        "colab": {
          "base_uri": "https://localhost:8080/",
          "height": 1000
        }
      },
      "source": [
        "plot_model(model, show_shapes=True, show_layer_names=True)"
      ],
      "execution_count": 15,
      "outputs": [
        {
          "output_type": "execute_result",
          "data": {
            "image/png": "[encoded data removed]",
            "text/plain": [
              "<IPython.core.display.Image object>"
            ]
          },
          "metadata": {
            "tags": []
          },
          "execution_count": 15
        }
      ]
    },
    {
      "cell_type": "code",
      "metadata": {
        "id": "dt5z4PTwC2TS"
      },
      "source": [
        ""
      ],
      "execution_count": null,
      "outputs": []
    }
  ]
}